{
  "nbformat": 4,
  "nbformat_minor": 0,
  "metadata": {
    "colab": {
      "provenance": []
    },
    "kernelspec": {
      "name": "python3",
      "display_name": "Python 3"
    },
    "language_info": {
      "name": "python"
    }
  },
  "cells": [
    {
      "cell_type": "markdown",
      "source": [
        "#Theoretical Questions.\n",
        "1. What are data structures, and why are they important?\n",
        "-  Data structure is a way of organizing and storing data so that it can be accessed & manupulating efficiently.\n",
        "- It is important bcz its efficiency, faster algorithm, easier problem solving & better memory management.\n",
        "\n",
        "2. Explain the difference between mutable and immutable data types with examples?\n",
        "- Mutable object can be changed after they are created.\n",
        "-immutable object cannot be changed after they are created.\n",
        "Examples:**bold text**"
      ],
      "metadata": {
        "id": "UJjJkhsbjIC1"
      }
    },
    {
      "cell_type": "code",
      "execution_count": 1,
      "metadata": {
        "colab": {
          "base_uri": "https://localhost:8080/"
        },
        "id": "fHCHRA9ki7V6",
        "outputId": "d4806e21-425b-47c8-8b3b-cb9c2fe101c0"
      },
      "outputs": [
        {
          "output_type": "stream",
          "name": "stdout",
          "text": [
            "[10, 2, 3, 4, 5]\n"
          ]
        }
      ],
      "source": [
        "#examples of mutable object>> list,\n",
        "\n",
        "list1 = [1, 2, 3, 4, 5]\n",
        "list1[0] = 10\n",
        "print(list1)"
      ]
    },
    {
      "cell_type": "code",
      "source": [
        "#examples of immutable object>> tuple,\n",
        "\n",
        "tuple1 = (1, 2, 3, 4, 5)\n",
        "tuple1[-1] = 10\n",
        "print(tuple1)"
      ],
      "metadata": {
        "colab": {
          "base_uri": "https://localhost:8080/",
          "height": 193
        },
        "id": "PT9PCcjOs04z",
        "outputId": "c20234ff-8e52-40d6-aa5d-0646137db2db"
      },
      "execution_count": 2,
      "outputs": [
        {
          "output_type": "error",
          "ename": "TypeError",
          "evalue": "'tuple' object does not support item assignment",
          "traceback": [
            "\u001b[0;31m---------------------------------------------------------------------------\u001b[0m",
            "\u001b[0;31mTypeError\u001b[0m                                 Traceback (most recent call last)",
            "\u001b[0;32m<ipython-input-2-90e617911bc6>\u001b[0m in \u001b[0;36m<cell line: 0>\u001b[0;34m()\u001b[0m\n\u001b[1;32m      2\u001b[0m \u001b[0;34m\u001b[0m\u001b[0m\n\u001b[1;32m      3\u001b[0m \u001b[0mtuple1\u001b[0m \u001b[0;34m=\u001b[0m \u001b[0;34m(\u001b[0m\u001b[0;36m1\u001b[0m\u001b[0;34m,\u001b[0m \u001b[0;36m2\u001b[0m\u001b[0;34m,\u001b[0m \u001b[0;36m3\u001b[0m\u001b[0;34m,\u001b[0m \u001b[0;36m4\u001b[0m\u001b[0;34m,\u001b[0m \u001b[0;36m5\u001b[0m\u001b[0;34m)\u001b[0m\u001b[0;34m\u001b[0m\u001b[0;34m\u001b[0m\u001b[0m\n\u001b[0;32m----> 4\u001b[0;31m \u001b[0mtuple1\u001b[0m\u001b[0;34m[\u001b[0m\u001b[0;34m-\u001b[0m\u001b[0;36m1\u001b[0m\u001b[0;34m]\u001b[0m \u001b[0;34m=\u001b[0m \u001b[0;36m10\u001b[0m\u001b[0;34m\u001b[0m\u001b[0;34m\u001b[0m\u001b[0m\n\u001b[0m\u001b[1;32m      5\u001b[0m \u001b[0mprint\u001b[0m\u001b[0;34m(\u001b[0m\u001b[0mtuple1\u001b[0m\u001b[0;34m)\u001b[0m\u001b[0;34m\u001b[0m\u001b[0;34m\u001b[0m\u001b[0m\n",
            "\u001b[0;31mTypeError\u001b[0m: 'tuple' object does not support item assignment"
          ]
        }
      ]
    },
    {
      "cell_type": "markdown",
      "source": [
        "3. What are the main differences between lists and tuples in Python?\n",
        "- lists are mutables and tuples are immutables.\n",
        "\n",
        "4. Describe how dictionaries store data?\n",
        "- dictionary storing data in \"Key : value\" pairs. i,e \"name: Sk Raj\"\n",
        "\n",
        "5. Why might you use a set instead of a list in Python?\n",
        "- set can used over list bcz it will remove automatically duplicates values.\n",
        "- it will allow to used set opertions.\n",
        "- faster membership testing.\n",
        "\n",
        "6. What is a string in Python, and how is it different from a list?\n",
        "- string is a text base data type which is enclose by (') or (\"), it is immutable & it can not be modified after they are created.\n",
        "- list are mutable, it can store any type of data i.e int, str, float, bool, complex etc & it can be modified after they are created.\n",
        "\n",
        "7. How do tuples ensure data integrity in Python?\n",
        "- Because tuples are immutable, their contents cannot be changed. This ensures that the data remains constant and is safe from accidental modification.\n",
        "\n",
        "8. What is a hash table, and how does it relate to dictionaries in Python?\n",
        "- A hash table is a data structure that maps keys to values using a hash function. Python dictionaries are implemented using hash tables.\n",
        "\n",
        "9. Can lists contain different data types in Python?\n",
        "- Yes, lists can store multiple data types, such as integers, strings, and even other lists.\n",
        "\n",
        "10. Explain why strings are immutable in Python.\n",
        "- Strings are immutable to optimize memory use and performance and to ensure data consistency when used in hashing or shared among variables.\n",
        "\n",
        "11. What advantages do dictionaries offer over lists for certain tasks?\n",
        "- Dictionaries offer fast key-based lookup and are better when you need to associate values with unique keys, unlike lists which use index-based access.\n",
        "\n",
        "12. Describe a scenario where using a tuple would be preferable over a list.\n",
        "- Use a tuple when data should not change, like coordinates ((x, y)) or database records. Tuples also serve well as dictionary keys due to immutability.\n",
        "\n",
        "13. How do sets handle duplicate values in Python?\n",
        "- Sets automatically eliminate duplicates. Adding an existing item to a set has no effect.\n",
        "\n",
        "14. How does the in keyword work differently for lists and dictionaries?\n",
        "- In lists, in checks for a value.\n",
        "\n",
        "- In dictionaries, in checks for a key (not the value).\n",
        "\n",
        "15. Can you modify the elements of a tuple? Explain why or why not.\n",
        "- No, tuples are immutable. Once created, their contents cannot be changed, which is why they are often used for fixed data.\n",
        "\n",
        "16. What is a nested dictionary, and give an example of its use case.\n",
        "- A nested dictionary is a dictionary inside another dictionary.\n"
      ],
      "metadata": {
        "id": "kQk74OrxtbpO"
      }
    },
    {
      "cell_type": "code",
      "source": [
        "#ex:\n",
        "student = {\"name\" : \"Raj\", \"grades\" : {\"math\" : 90, \"science\" : 80}}"
      ],
      "metadata": {
        "id": "561IKAeJtYlL"
      },
      "execution_count": 3,
      "outputs": []
    },
    {
      "cell_type": "markdown",
      "source": [
        "17. Describe the time complexity of accessing elements in a dictionary.\n",
        "- Accessing an element by key in a dictionary has an average-case time complexity of O(1), thanks to the hash table implementation.\n",
        "\n",
        "18. In what situations are lists preferred over dictionaries?\n",
        "- Use lists when order matters, or you’re dealing with a simple collection of items without the need for key-based lookup.\n",
        "\n",
        "19. Why are dictionaries considered unordered, and how does that affect data retrieval?\n",
        "- Before Python 3.7, dictionaries didn’t preserve insertion order. While modern Python versions do, dictionaries still rely on keys, not position, for access.\n",
        "\n",
        "20. Explain the difference between a list and a dictionary in terms of data retrieval.\n",
        "- List: Access items by index (e.g., list[0]).\n",
        "\n",
        "- Dictionary: Access items by key (e.g., dict['key']).\n",
        "\n"
      ],
      "metadata": {
        "id": "wSHUc4bm3_0v"
      }
    },
    {
      "cell_type": "markdown",
      "source": [
        "#Practical Questions."
      ],
      "metadata": {
        "id": "uatigOlH5pXJ"
      }
    },
    {
      "cell_type": "code",
      "source": [
        "#1. Create a string with your name and print it?\n",
        "name = \"Sk Raj\"\n",
        "print(name)\n"
      ],
      "metadata": {
        "colab": {
          "base_uri": "https://localhost:8080/"
        },
        "id": "7a8ODTVO3-lp",
        "outputId": "49e2dce9-d42b-446a-c131-9e0fbd6d82d9"
      },
      "execution_count": 4,
      "outputs": [
        {
          "output_type": "stream",
          "name": "stdout",
          "text": [
            "Sk Raj\n"
          ]
        }
      ]
    },
    {
      "cell_type": "code",
      "source": [
        "#2. Find the length of the string \"Hello World\"\n",
        "string = \"Hello World\"\n",
        "print(len(string))"
      ],
      "metadata": {
        "colab": {
          "base_uri": "https://localhost:8080/"
        },
        "id": "w1vE9tbe5ybH",
        "outputId": "b4aa8be9-0e14-414d-91b9-08625ae2d3b7"
      },
      "execution_count": 5,
      "outputs": [
        {
          "output_type": "stream",
          "name": "stdout",
          "text": [
            "11\n"
          ]
        }
      ]
    },
    {
      "cell_type": "code",
      "source": [
        "#3. Slice the first 3 characters from the string \"Python Programming\"\n",
        "string = \"Python Programming\"\n",
        "print(string[:3])"
      ],
      "metadata": {
        "colab": {
          "base_uri": "https://localhost:8080/"
        },
        "id": "gwogOAOo6WwV",
        "outputId": "02c162ee-fcdf-4677-d9b3-d7ef1334ab56"
      },
      "execution_count": 6,
      "outputs": [
        {
          "output_type": "stream",
          "name": "stdout",
          "text": [
            "Pyt\n"
          ]
        }
      ]
    },
    {
      "cell_type": "code",
      "source": [
        "#4. Convert the string \"hello\" to uppercase\n",
        "string = \"hello\"\n",
        "print(string.upper())"
      ],
      "metadata": {
        "colab": {
          "base_uri": "https://localhost:8080/"
        },
        "id": "SCYvBOX46hNo",
        "outputId": "59468510-5f22-49be-fafc-8c137e46076e"
      },
      "execution_count": 9,
      "outputs": [
        {
          "output_type": "stream",
          "name": "stdout",
          "text": [
            "HELLO\n"
          ]
        }
      ]
    },
    {
      "cell_type": "code",
      "source": [
        "#5. Replace the word \"apple\" with \"orange\" in the string \"I like apple\"\n",
        "string = \"I like apple\"\n",
        "print(string.replace(\"apple\", \"orange\"))"
      ],
      "metadata": {
        "colab": {
          "base_uri": "https://localhost:8080/"
        },
        "id": "hvsh1FKd6tGo",
        "outputId": "1251e957-7042-4480-ba58-c211280e0b89"
      },
      "execution_count": 10,
      "outputs": [
        {
          "output_type": "stream",
          "name": "stdout",
          "text": [
            "I like orange\n"
          ]
        }
      ]
    },
    {
      "cell_type": "code",
      "source": [
        "#6. Create a list with numbers 1 to 5 and print it\n",
        "list = [1, 2, 3, 4, 5]\n",
        "print(list)"
      ],
      "metadata": {
        "colab": {
          "base_uri": "https://localhost:8080/"
        },
        "id": "EAZY2_vT7E4H",
        "outputId": "e9397849-b53c-479f-a42c-59b3c9834d78"
      },
      "execution_count": 11,
      "outputs": [
        {
          "output_type": "stream",
          "name": "stdout",
          "text": [
            "[1, 2, 3, 4, 5]\n"
          ]
        }
      ]
    },
    {
      "cell_type": "code",
      "source": [
        "#7. Append the number 10 to the list [1, 2, 3, 4]\n",
        "list = [1, 2, 3, 4,]\n",
        "list.append(10)\n",
        "print(list)"
      ],
      "metadata": {
        "colab": {
          "base_uri": "https://localhost:8080/"
        },
        "id": "z4L4JGb17RuJ",
        "outputId": "5b3479b7-9f08-4856-a453-ce86386ed7e4"
      },
      "execution_count": 12,
      "outputs": [
        {
          "output_type": "stream",
          "name": "stdout",
          "text": [
            "[1, 2, 3, 4, 10]\n"
          ]
        }
      ]
    },
    {
      "cell_type": "code",
      "source": [
        "#8. Remove the number 3 from the list [1, 2, 3, 4, 5]\n",
        "list = [1, 2, 3, 4, 5]\n",
        "list.remove(3)\n",
        "print(list)"
      ],
      "metadata": {
        "colab": {
          "base_uri": "https://localhost:8080/"
        },
        "id": "4AEjjjnH7jBG",
        "outputId": "ab766f2c-d4d2-4a82-def8-50e4acd0e938"
      },
      "execution_count": 13,
      "outputs": [
        {
          "output_type": "stream",
          "name": "stdout",
          "text": [
            "[1, 2, 4, 5]\n"
          ]
        }
      ]
    },
    {
      "cell_type": "code",
      "source": [
        "#9. Access the second element in the list ['a', 'b', 'c', 'd']\n",
        "list = ['a', 'b', 'c', 'd']\n",
        "print(list[1])"
      ],
      "metadata": {
        "colab": {
          "base_uri": "https://localhost:8080/"
        },
        "id": "xDOqEPjZ7usU",
        "outputId": "e930555a-ff96-4cc0-8b37-75d6e7e4fdfc"
      },
      "execution_count": 14,
      "outputs": [
        {
          "output_type": "stream",
          "name": "stdout",
          "text": [
            "b\n"
          ]
        }
      ]
    },
    {
      "cell_type": "code",
      "source": [
        "#10. Reverse the list [10, 20, 30, 40, 50]\n",
        "list = [10, 20, 30, 40, 50]\n",
        "print(list[::-1])\n"
      ],
      "metadata": {
        "colab": {
          "base_uri": "https://localhost:8080/"
        },
        "id": "LvB-d0X475zP",
        "outputId": "cc26b620-0998-4454-bd05-dc3d1f6e7500"
      },
      "execution_count": 15,
      "outputs": [
        {
          "output_type": "stream",
          "name": "stdout",
          "text": [
            "[50, 40, 30, 20, 10]\n"
          ]
        }
      ]
    },
    {
      "cell_type": "code",
      "source": [
        "#11. Create a tuple with the elements 100, 200, 300 and print it\n",
        "tuple = (100, 200, 300)\n",
        "print(tuple)"
      ],
      "metadata": {
        "colab": {
          "base_uri": "https://localhost:8080/"
        },
        "id": "R57A84_y8HuB",
        "outputId": "2de678eb-e5b8-4f65-8f78-744d9b10d75b"
      },
      "execution_count": 16,
      "outputs": [
        {
          "output_type": "stream",
          "name": "stdout",
          "text": [
            "(100, 200, 300)\n"
          ]
        }
      ]
    },
    {
      "cell_type": "code",
      "source": [
        "#12. Access the second-to-last element of the tuple ('red', 'green', 'blue', 'yellow')\n",
        "tuple = ('red', 'green', 'blue', 'yellow')\n",
        "print(tuple[-2])"
      ],
      "metadata": {
        "colab": {
          "base_uri": "https://localhost:8080/"
        },
        "id": "jjmhPUye8kxs",
        "outputId": "719d3627-9783-4262-f12d-a5a986eb7dae"
      },
      "execution_count": 17,
      "outputs": [
        {
          "output_type": "stream",
          "name": "stdout",
          "text": [
            "blue\n"
          ]
        }
      ]
    },
    {
      "cell_type": "code",
      "source": [
        "# 13. Find the minimum number in the tuple (10, 20, 5, 15)\n",
        "tuple = (10, 20, 5, 15)\n",
        "print(min(tuple))"
      ],
      "metadata": {
        "colab": {
          "base_uri": "https://localhost:8080/"
        },
        "id": "vac4zPxK8s1z",
        "outputId": "601f7d0b-998a-4cf0-ec34-47a0bb3beb00"
      },
      "execution_count": 18,
      "outputs": [
        {
          "output_type": "stream",
          "name": "stdout",
          "text": [
            "5\n"
          ]
        }
      ]
    },
    {
      "cell_type": "code",
      "source": [
        "#14. Find the index of the element \"cat\" in the tuple ('dog', 'cat', 'rabbit')\n",
        "tuple = ('dog', 'cat', 'rabbit')\n",
        "print(tuple.index(\"cat\"))"
      ],
      "metadata": {
        "colab": {
          "base_uri": "https://localhost:8080/"
        },
        "id": "Puc9Qxq89AgU",
        "outputId": "f41b775b-0a79-4018-8954-88e4da5e5d8b"
      },
      "execution_count": 19,
      "outputs": [
        {
          "output_type": "stream",
          "name": "stdout",
          "text": [
            "1\n"
          ]
        }
      ]
    },
    {
      "cell_type": "code",
      "source": [
        "#15. Create a tuple containing three different fruits and check if \"kiwi\" is in it\n",
        "tuple = (\"apple\", \"banana\", \"orange\")\n",
        "print(\"kiwi\" in tuple)"
      ],
      "metadata": {
        "colab": {
          "base_uri": "https://localhost:8080/"
        },
        "id": "tO-l9uH-9_dv",
        "outputId": "987fe47c-7388-48df-b6c4-73a2aec0f571"
      },
      "execution_count": 20,
      "outputs": [
        {
          "output_type": "stream",
          "name": "stdout",
          "text": [
            "False\n"
          ]
        }
      ]
    },
    {
      "cell_type": "code",
      "source": [
        "#16. Create a set with the elements 'a', 'b', 'c' and print it\n",
        "set = {'a', 'b', 'c'}\n",
        "print(set)"
      ],
      "metadata": {
        "colab": {
          "base_uri": "https://localhost:8080/"
        },
        "id": "7NVGWJo4-TA1",
        "outputId": "f0c46962-fefa-4df5-bba9-3e7a1c5ad009"
      },
      "execution_count": 21,
      "outputs": [
        {
          "output_type": "stream",
          "name": "stdout",
          "text": [
            "{'c', 'b', 'a'}\n"
          ]
        }
      ]
    },
    {
      "cell_type": "code",
      "source": [
        "#17. Clear all elements from the set {1, 2, 3, 4, 5}\n",
        "set = {1, 2, 3, 4, 5}\n",
        "set.clear()\n",
        "print(set)"
      ],
      "metadata": {
        "colab": {
          "base_uri": "https://localhost:8080/"
        },
        "id": "xX7GUqgh-oLe",
        "outputId": "0677d3d6-5cef-4800-fdbb-417b7e76541e"
      },
      "execution_count": 22,
      "outputs": [
        {
          "output_type": "stream",
          "name": "stdout",
          "text": [
            "set()\n"
          ]
        }
      ]
    },
    {
      "cell_type": "code",
      "source": [
        "#18. Remove the element 4 from the set {1, 2, 3, 4}\n",
        "set = {1, 2, 3, 4}\n",
        "set.remove(4)\n",
        "print(set)"
      ],
      "metadata": {
        "colab": {
          "base_uri": "https://localhost:8080/"
        },
        "id": "R-Vzbd6c-1ki",
        "outputId": "862f09cf-4a72-4d6a-bd76-b7577a675362"
      },
      "execution_count": 23,
      "outputs": [
        {
          "output_type": "stream",
          "name": "stdout",
          "text": [
            "{1, 2, 3}\n"
          ]
        }
      ]
    },
    {
      "cell_type": "code",
      "source": [
        "#19. Find the union of two sets {1, 2, 3} and {3, 4, 5}\n",
        "set1 = {1, 2, 3}\n",
        "set2 = {3, 4, 5}\n",
        "print(set1.union(set2))"
      ],
      "metadata": {
        "colab": {
          "base_uri": "https://localhost:8080/"
        },
        "id": "AHUdS8bF_P36",
        "outputId": "fd473ccf-6616-47d7-b32c-81e47b92dded"
      },
      "execution_count": 24,
      "outputs": [
        {
          "output_type": "stream",
          "name": "stdout",
          "text": [
            "{1, 2, 3, 4, 5}\n"
          ]
        }
      ]
    },
    {
      "cell_type": "code",
      "source": [
        "#20. Find the intersection of two sets {1, 2, 3} and {2, 3, 4}\n",
        "set1 = {1, 2, 3}\n",
        "set2 = {2, 3, 4}\n",
        "print(set1.intersection(set2))"
      ],
      "metadata": {
        "colab": {
          "base_uri": "https://localhost:8080/"
        },
        "id": "sCMHLFU5Cn7G",
        "outputId": "c1facbd7-76f2-4e9d-a4e8-d0c4453bdec0"
      },
      "execution_count": 25,
      "outputs": [
        {
          "output_type": "stream",
          "name": "stdout",
          "text": [
            "{2, 3}\n"
          ]
        }
      ]
    },
    {
      "cell_type": "code",
      "source": [
        "#21. Create a dictionary with keys \"name\", \"age\", and \"city\" and print it\n",
        "dict = {\"name\" : \"Raj\",\"age\" : 22, \"city\" : \"Bardhaman\"}\n",
        "print(dict)"
      ],
      "metadata": {
        "colab": {
          "base_uri": "https://localhost:8080/"
        },
        "id": "VD4c5mMzC1pB",
        "outputId": "521cc0a8-2ed1-495e-8f4d-c2d33b6f7d52"
      },
      "execution_count": 28,
      "outputs": [
        {
          "output_type": "stream",
          "name": "stdout",
          "text": [
            "{'name': 'Raj', 'age': 22, 'city': 'Bardhaman'}\n"
          ]
        }
      ]
    },
    {
      "cell_type": "code",
      "source": [
        "#22. Add \"country\": \"USA\" to {'name': 'John', 'age': 25}\n",
        "dict = {'name': 'John', 'age': 25}\n",
        "dict[\"country\"] = \"USA\"\n",
        "print(dict)"
      ],
      "metadata": {
        "colab": {
          "base_uri": "https://localhost:8080/"
        },
        "id": "gMImY4UeDGjQ",
        "outputId": "69c23df2-489d-4120-f3dc-699fac4caeb7"
      },
      "execution_count": 30,
      "outputs": [
        {
          "output_type": "stream",
          "name": "stdout",
          "text": [
            "{'name': 'John', 'age': 25, 'country': 'USA'}\n"
          ]
        }
      ]
    },
    {
      "cell_type": "code",
      "source": [
        "#23. Access the value associated with \"name\" in {'name': 'Alice', 'age': 30}\n",
        "dict = {'name': 'Alice', 'age': 30}\n",
        "print(dict[\"name\"])"
      ],
      "metadata": {
        "colab": {
          "base_uri": "https://localhost:8080/"
        },
        "id": "j1j5IEhpDpCm",
        "outputId": "a2624b99-eb79-4b22-8fe8-15bee1dea4b6"
      },
      "execution_count": 31,
      "outputs": [
        {
          "output_type": "stream",
          "name": "stdout",
          "text": [
            "Alice\n"
          ]
        }
      ]
    },
    {
      "cell_type": "code",
      "source": [
        "#24. Remove the key \"age\" from {'name': 'Bob', 'age': 22, 'city': 'New York'}\n",
        "dict = {'name': 'Bob', 'age': 22, 'city': 'New York'}\n",
        "del dict[\"age\"]\n",
        "print(dict)"
      ],
      "metadata": {
        "colab": {
          "base_uri": "https://localhost:8080/"
        },
        "id": "l2icFvyUD9FU",
        "outputId": "929c5874-bfea-454d-bc5d-5c29310090ce"
      },
      "execution_count": 33,
      "outputs": [
        {
          "output_type": "stream",
          "name": "stdout",
          "text": [
            "{'name': 'Bob', 'city': 'New York'}\n"
          ]
        }
      ]
    },
    {
      "cell_type": "code",
      "source": [
        "#25. Check if the key \"city\" exists in {'name': 'Alice', 'city': 'Paris'}\n",
        "print(\"city\" in {'name': 'Alice', 'city': 'Paris'})"
      ],
      "metadata": {
        "colab": {
          "base_uri": "https://localhost:8080/"
        },
        "id": "Gp1-i_8lEErI",
        "outputId": "b6618e1a-9359-4c21-c876-238b5c144154"
      },
      "execution_count": 34,
      "outputs": [
        {
          "output_type": "stream",
          "name": "stdout",
          "text": [
            "True\n"
          ]
        }
      ]
    },
    {
      "cell_type": "code",
      "source": [
        "#26. Create a list, a tuple, and a dictionary, and print them all\n",
        "list = [1, 2, 3, 4, 5]\n",
        "tuple = (1, 2, 3, 4, 5)\n",
        "dict = {\"name\" : \"Raj\",\"age\" : 22, \"city\" : \"Bardhaman\"}\n",
        "print(list, tuple, dict)"
      ],
      "metadata": {
        "colab": {
          "base_uri": "https://localhost:8080/"
        },
        "id": "7xz_SEEVEWo9",
        "outputId": "d6da64f0-8fe6-48c2-aee0-95cb171baf81"
      },
      "execution_count": 35,
      "outputs": [
        {
          "output_type": "stream",
          "name": "stdout",
          "text": [
            "[1, 2, 3, 4, 5] (1, 2, 3, 4, 5) {'name': 'Raj', 'age': 22, 'city': 'Bardhaman'}\n"
          ]
        }
      ]
    },
    {
      "cell_type": "code",
      "source": [
        "#27. Create a list of 5 random numbers between 1 and 100, sort in ascending order, and print\n",
        "import random\n",
        "list = [random.randint(1, 100) for _ in range(5)]\n",
        "list.sort()\n",
        "print(list)\n"
      ],
      "metadata": {
        "colab": {
          "base_uri": "https://localhost:8080/"
        },
        "id": "eeyJOUxuErNS",
        "outputId": "b59eb2db-a0d1-4e38-c3f2-b845e105d808"
      },
      "execution_count": 36,
      "outputs": [
        {
          "output_type": "stream",
          "name": "stdout",
          "text": [
            "[68, 79, 85, 85, 100]\n"
          ]
        }
      ]
    },
    {
      "cell_type": "code",
      "source": [
        "#28. Create a list with strings and print the element at the third index\n",
        "list = [\"apple\", \"banana\", \"orange\", \"grape\", \"kiwi\"]\n",
        "print(list[3])"
      ],
      "metadata": {
        "colab": {
          "base_uri": "https://localhost:8080/"
        },
        "id": "eQh2cnkZFDkI",
        "outputId": "c2dd7abc-17b6-406a-b8ed-bfb3b7f2b479"
      },
      "execution_count": 37,
      "outputs": [
        {
          "output_type": "stream",
          "name": "stdout",
          "text": [
            "grape\n"
          ]
        }
      ]
    },
    {
      "cell_type": "code",
      "source": [
        "#29. Combine two dictionaries into one and print the result\n",
        "dict1 = {'a': 1, 'b': 2}\n",
        "dict2 = {'c': 3, 'd': 4}\n",
        "combined = {**dict1, **dict2}\n",
        "print(combined)"
      ],
      "metadata": {
        "colab": {
          "base_uri": "https://localhost:8080/"
        },
        "id": "uVGL68lTFT5G",
        "outputId": "cc75cf34-cb71-4573-cca2-a73d94e2c99e"
      },
      "execution_count": 39,
      "outputs": [
        {
          "output_type": "stream",
          "name": "stdout",
          "text": [
            "{'a': 1, 'b': 2, 'c': 3, 'd': 4}\n"
          ]
        }
      ]
    },
    {
      "cell_type": "code",
      "source": [
        "#30. Convert a list of strings into a set\n",
        "word_list = [\"apple\", \"banana\", \"orange\", \"apple\", \"banana\"]\n",
        "unique_words = set(word_list)\n",
        "print(unique_words)"
      ],
      "metadata": {
        "colab": {
          "base_uri": "https://localhost:8080/",
          "height": 193
        },
        "id": "mgX2Wx0eFiNj",
        "outputId": "96e758b1-dab7-487b-d75e-c0f96f74bbb3"
      },
      "execution_count": 43,
      "outputs": [
        {
          "output_type": "error",
          "ename": "TypeError",
          "evalue": "'set' object is not callable",
          "traceback": [
            "\u001b[0;31m---------------------------------------------------------------------------\u001b[0m",
            "\u001b[0;31mTypeError\u001b[0m                                 Traceback (most recent call last)",
            "\u001b[0;32m<ipython-input-43-7129d60ea35e>\u001b[0m in \u001b[0;36m<cell line: 0>\u001b[0;34m()\u001b[0m\n\u001b[1;32m      1\u001b[0m \u001b[0;31m#30. Convert a list of strings into a set\u001b[0m\u001b[0;34m\u001b[0m\u001b[0;34m\u001b[0m\u001b[0m\n\u001b[1;32m      2\u001b[0m \u001b[0mword_list\u001b[0m \u001b[0;34m=\u001b[0m \u001b[0;34m[\u001b[0m\u001b[0;34m\"apple\"\u001b[0m\u001b[0;34m,\u001b[0m \u001b[0;34m\"banana\"\u001b[0m\u001b[0;34m,\u001b[0m \u001b[0;34m\"orange\"\u001b[0m\u001b[0;34m,\u001b[0m \u001b[0;34m\"apple\"\u001b[0m\u001b[0;34m,\u001b[0m \u001b[0;34m\"banana\"\u001b[0m\u001b[0;34m]\u001b[0m\u001b[0;34m\u001b[0m\u001b[0;34m\u001b[0m\u001b[0m\n\u001b[0;32m----> 3\u001b[0;31m \u001b[0munique_words\u001b[0m \u001b[0;34m=\u001b[0m \u001b[0mset\u001b[0m\u001b[0;34m(\u001b[0m\u001b[0mword_list\u001b[0m\u001b[0;34m)\u001b[0m\u001b[0;34m\u001b[0m\u001b[0;34m\u001b[0m\u001b[0m\n\u001b[0m\u001b[1;32m      4\u001b[0m \u001b[0mprint\u001b[0m\u001b[0;34m(\u001b[0m\u001b[0munique_words\u001b[0m\u001b[0;34m)\u001b[0m\u001b[0;34m\u001b[0m\u001b[0;34m\u001b[0m\u001b[0m\n",
            "\u001b[0;31mTypeError\u001b[0m: 'set' object is not callable"
          ]
        }
      ]
    },
    {
      "cell_type": "code",
      "source": [],
      "metadata": {
        "id": "zgYcncQkGTS_"
      },
      "execution_count": null,
      "outputs": []
    }
  ]
}